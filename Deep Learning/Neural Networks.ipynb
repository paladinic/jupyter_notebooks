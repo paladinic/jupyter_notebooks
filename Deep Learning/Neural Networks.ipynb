{
 "cells": [
  {
   "cell_type": "code",
   "execution_count": 1,
   "metadata": {},
   "outputs": [],
   "source": [
    "# libs\n",
    "import cv2\n",
    "from emnist import extract_training_samples,extract_test_samples\n",
    "\n",
    "import matplotlib.pyplot as plt\n",
    "\n",
    "import pandas as pd\n",
    "import numpy as np\n",
    "\n",
    "from keras.layers import Dense\n",
    "from keras.models import Sequential, load_model\n",
    "from keras.utils import to_categorical\n",
    "from keras.callbacks import EarlyStopping\n",
    "\n",
    "from sklearn import datasets\n",
    "from sklearn.model_selection import train_test_split"
   ]
  },
  {
   "cell_type": "code",
   "execution_count": 2,
   "metadata": {},
   "outputs": [
    {
     "data": {
      "image/png": "[encoded data removed]",
      "text/plain": [
       "<Figure size 432x288 with 1 Axes>"
      ]
     },
     "metadata": {
      "needs_background": "light"
     },
     "output_type": "display_data"
    }
   ],
   "source": [
    "# data\n",
    "digits = datasets.load_digits()\n",
    "\n",
    "x = digits.data\n",
    "n_cols = x.shape[1]\n",
    "y = digits.target\n",
    "y_binary = to_categorical(y)\n",
    "\n",
    "plt.imshow(digits.images[2], cmap=plt.cm.gray_r, interpolation='nearest')\n",
    "plt.show()"
   ]
  },
  {
   "cell_type": "code",
   "execution_count": 3,
   "metadata": {},
   "outputs": [],
   "source": [
    "early_stopping_monitor = EarlyStopping(patience = 10)"
   ]
  },
  {
   "cell_type": "code",
   "execution_count": 36,
   "metadata": {},
   "outputs": [],
   "source": [
    "# model\n",
    "model = Sequential()\n",
    "model.add(Dense(200, activation=\"relu\", input_shape = (n_cols,)))\n",
    "model.add(Dense(500, activation=\"relu\"))\n",
    "model.add(Dense(10,activation=\"softmax\"))\n",
    "model.compile(optimizer=\"adam\",\n",
    "              loss=\"categorical_crossentropy\",\n",
    "              metrics = [\"accuracy\"])\n"
   ]
  },
  {
   "cell_type": "code",
   "execution_count": 37,
   "metadata": {},
   "outputs": [
    {
     "name": "stdout",
     "output_type": "stream",
     "text": [
      "Epoch 1/20\n",
      "45/45 [==============================] - 0s 4ms/step - loss: 0.8225 - accuracy: 0.7933 - val_loss: 0.4616 - val_accuracy: 0.8889\n",
      "Epoch 2/20\n",
      "45/45 [==============================] - 0s 3ms/step - loss: 0.0747 - accuracy: 0.9770 - val_loss: 0.3058 - val_accuracy: 0.9167\n",
      "Epoch 3/20\n",
      "45/45 [==============================] - 0s 2ms/step - loss: 0.0379 - accuracy: 0.9916 - val_loss: 0.2789 - val_accuracy: 0.9250\n",
      "Epoch 4/20\n",
      "45/45 [==============================] - 0s 3ms/step - loss: 0.0248 - accuracy: 0.9951 - val_loss: 0.2754 - val_accuracy: 0.9306\n",
      "Epoch 5/20\n",
      "45/45 [==============================] - 0s 3ms/step - loss: 0.0101 - accuracy: 1.0000 - val_loss: 0.2119 - val_accuracy: 0.9528\n",
      "Epoch 6/20\n",
      "45/45 [==============================] - 0s 3ms/step - loss: 0.0050 - accuracy: 1.0000 - val_loss: 0.2220 - val_accuracy: 0.9389\n",
      "Epoch 7/20\n",
      "45/45 [==============================] - 0s 3ms/step - loss: 0.0033 - accuracy: 1.0000 - val_loss: 0.2297 - val_accuracy: 0.9472\n",
      "Epoch 8/20\n",
      "45/45 [==============================] - 0s 3ms/step - loss: 0.0033 - accuracy: 1.0000 - val_loss: 0.2414 - val_accuracy: 0.9333\n",
      "Epoch 9/20\n",
      "45/45 [==============================] - 0s 3ms/step - loss: 0.0028 - accuracy: 1.0000 - val_loss: 0.2067 - val_accuracy: 0.9389\n",
      "Epoch 10/20\n",
      "45/45 [==============================] - 0s 3ms/step - loss: 0.0018 - accuracy: 1.0000 - val_loss: 0.2209 - val_accuracy: 0.9472\n",
      "Epoch 11/20\n",
      "45/45 [==============================] - 0s 3ms/step - loss: 0.0013 - accuracy: 1.0000 - val_loss: 0.2217 - val_accuracy: 0.9417\n",
      "Epoch 12/20\n",
      "45/45 [==============================] - 0s 3ms/step - loss: 0.0011 - accuracy: 1.0000 - val_loss: 0.2281 - val_accuracy: 0.9417\n",
      "Epoch 13/20\n",
      "45/45 [==============================] - 0s 3ms/step - loss: 8.7960e-04 - accuracy: 1.0000 - val_loss: 0.2247 - val_accuracy: 0.9417\n",
      "Epoch 14/20\n",
      "45/45 [==============================] - 0s 3ms/step - loss: 7.9239e-04 - accuracy: 1.0000 - val_loss: 0.2252 - val_accuracy: 0.9472\n"
     ]
    },
    {
     "data": {
      "text/plain": [
       "<tensorflow.python.keras.callbacks.History at 0x1e9932fd460>"
      ]
     },
     "execution_count": 37,
     "metadata": {},
     "output_type": "execute_result"
    }
   ],
   "source": [
    "model.fit(x,y_binary,epochs=20,validation_split=.2,callbacks=[early_stopping_monitor])"
   ]
  },
  {
   "cell_type": "code",
   "execution_count": 38,
   "metadata": {},
   "outputs": [
    {
     "data": {
      "image/png": "[encoded data removed]",
      "text/plain": [
       "<Figure size 432x288 with 1 Axes>"
      ]
     },
     "metadata": {
      "needs_background": "light"
     },
     "output_type": "display_data"
    }
   ],
   "source": [
    "plt.plot(model.history.history['val_loss'])\n",
    "plt.xlabel('Epochs')\n",
    "plt.ylabel('Validation score')\n",
    "plt.show()"
   ]
  },
  {
   "cell_type": "code",
   "execution_count": 41,
   "metadata": {
    "scrolled": true
   },
   "outputs": [],
   "source": [
    "def img_to_data(src,n):\n",
    "    originalImage = cv2.imread(src)\n",
    "    grayImage = cv2.cvtColor(originalImage, cv2.COLOR_BGR2GRAY)\n",
    "    resizedImage = cv2.resize(grayImage, (n,n))\n",
    "    rescaledImage = 16 - resizedImage*(16/255)\n",
    "    return rescaledImage\n",
    "\n",
    "def show_char(d):\n",
    "    plt.imshow(d, cmap=plt.cm.gray_r, interpolation='nearest')\n",
    "    plt.show()\n",
    "    \n",
    "def dig_res(pred):\n",
    "    digs = np.array([0,1,2,3,4,5,6,7,8,9])\n",
    "    print(str(digs[max(pred) == pred]))\n",
    "\n",
    "src1 = 'img/tre.png'\n",
    "src2 = 'img/five.png'\n",
    "\n",
    "img1 = img_to_data(src1,8)\n",
    "img2 = img_to_data(src2,8)\n",
    "\n",
    "imgs = np.array([img1.reshape(-1),\n",
    "                img2.reshape(-1)])"
   ]
  },
  {
   "cell_type": "code",
   "execution_count": 42,
   "metadata": {},
   "outputs": [
    {
     "data": {
      "image/png": "[encoded data removed]",
      "text/plain": [
       "<Figure size 432x288 with 1 Axes>"
      ]
     },
     "metadata": {
      "needs_background": "light"
     },
     "output_type": "display_data"
    },
    {
     "name": "stdout",
     "output_type": "stream",
     "text": [
      "[3]\n"
     ]
    },
    {
     "data": {
      "image/png": "[encoded data removed]",
      "text/plain": [
       "<Figure size 432x288 with 1 Axes>"
      ]
     },
     "metadata": {
      "needs_background": "light"
     },
     "output_type": "display_data"
    },
    {
     "name": "stdout",
     "output_type": "stream",
     "text": [
      "[9]\n"
     ]
    }
   ],
   "source": [
    "pred = model.predict(imgs)\n",
    "show_char(img1)\n",
    "dig_res(pred[0])\n",
    "show_char(img2)\n",
    "dig_res(pred[1])"
   ]
  },
  {
   "cell_type": "code",
   "execution_count": 43,
   "metadata": {},
   "outputs": [
    {
     "data": {
      "image/png": "[encoded data removed]",
      "text/plain": [
       "<Figure size 432x288 with 1 Axes>"
      ]
     },
     "metadata": {
      "needs_background": "light"
     },
     "output_type": "display_data"
    },
    {
     "data": {
      "image/png": "[encoded data removed]",
      "text/plain": [
       "<Figure size 432x288 with 1 Axes>"
      ]
     },
     "metadata": {
      "needs_background": "light"
     },
     "output_type": "display_data"
    }
   ],
   "source": [
    "# data - letters\n",
    "images, labels = extract_training_samples('letters')\n",
    "t_images, t_labels = extract_test_samples('letters')\n",
    "reshapedImages = images.reshape( (images.shape[0], 28*28))\n",
    "labels_binary = to_categorical(labels - 1)\n",
    "\n",
    "alphabet = np.array([\"a\",\"b\",\"c\",\"d\",\"e\",\"f\",\"g\",\"h\",\"i\",\"j\",\"k\",\"l\",\"m\",\"n\",\"o\",\"p\",\"q\",\"r\",\"s\",\"t\",\"u\",\"v\",\"w\",\"x\",\"y\",\"z\"])\n",
    "\n",
    "show_char(images[1])\n",
    "show_char(t_images[1])"
   ]
  },
  {
   "cell_type": "code",
   "execution_count": 45,
   "metadata": {
    "scrolled": false
   },
   "outputs": [
    {
     "name": "stdout",
     "output_type": "stream",
     "text": [
      "Epoch 1/20\n",
      "3120/3120 [==============================] - 27s 9ms/step - loss: 1.9008 - accuracy: 0.7210 - val_loss: 0.7395 - val_accuracy: 0.7782\n",
      "Epoch 2/20\n",
      "3120/3120 [==============================] - 29s 9ms/step - loss: 0.6815 - accuracy: 0.8017 - val_loss: 0.6490 - val_accuracy: 0.8167\n",
      "Epoch 3/20\n",
      "3120/3120 [==============================] - 28s 9ms/step - loss: 0.6206 - accuracy: 0.8214 - val_loss: 0.6282 - val_accuracy: 0.8305\n",
      "Epoch 4/20\n",
      "3120/3120 [==============================] - 30s 10ms/step - loss: 0.5713 - accuracy: 0.8386 - val_loss: 0.6050 - val_accuracy: 0.8392\n",
      "Epoch 5/20\n",
      "3120/3120 [==============================] - 30s 10ms/step - loss: 0.5426 - accuracy: 0.8481 - val_loss: 0.5979 - val_accuracy: 0.8431\n",
      "Epoch 6/20\n",
      "3120/3120 [==============================] - 29s 9ms/step - loss: 0.5162 - accuracy: 0.8566 - val_loss: 0.6278 - val_accuracy: 0.8427\n",
      "Epoch 7/20\n",
      "3120/3120 [==============================] - 29s 9ms/step - loss: 0.5000 - accuracy: 0.8640 - val_loss: 0.5711 - val_accuracy: 0.8598\n",
      "Epoch 8/20\n",
      "3120/3120 [==============================] - 28s 9ms/step - loss: 0.4979 - accuracy: 0.8658 - val_loss: 0.5889 - val_accuracy: 0.8548\n",
      "Epoch 9/20\n",
      "3120/3120 [==============================] - 28s 9ms/step - loss: 0.4848 - accuracy: 0.8682 - val_loss: 0.6545 - val_accuracy: 0.8587\n",
      "Epoch 10/20\n",
      "3120/3120 [==============================] - 27s 9ms/step - loss: 0.4797 - accuracy: 0.8734 - val_loss: 0.6197 - val_accuracy: 0.8562\n",
      "Epoch 11/20\n",
      "3120/3120 [==============================] - 27s 9ms/step - loss: 0.4798 - accuracy: 0.8737 - val_loss: 0.6453 - val_accuracy: 0.8607\n",
      "Epoch 12/20\n",
      "3120/3120 [==============================] - 27s 9ms/step - loss: 0.4782 - accuracy: 0.8753 - val_loss: 0.7449 - val_accuracy: 0.8470\n"
     ]
    },
    {
     "data": {
      "text/plain": [
       "<tensorflow.python.keras.callbacks.History at 0x1e98d109df0>"
      ]
     },
     "execution_count": 45,
     "metadata": {},
     "output_type": "execute_result"
    }
   ],
   "source": [
    "# model - letters\n",
    "n_cols = len(reshapedImages[1])\n",
    "\n",
    "L_model = Sequential()\n",
    "L_model.add(Dense(784, activation=\"relu\", input_shape = (n_cols,)))\n",
    "L_model.add(Dense(784, activation=\"relu\"))\n",
    "L_model.add(Dense(26,activation=\"softmax\"))\n",
    "L_model.compile(optimizer=\"adam\",\n",
    "              loss=\"categorical_crossentropy\",\n",
    "              metrics = [\"accuracy\"])\n",
    "\n",
    "L_model.fit(reshapedImages,\n",
    "            labels_binary,\n",
    "            epochs=20,\n",
    "            validation_split=.2,\n",
    "            callbacks=[early_stopping_monitor])"
   ]
  },
  {
   "cell_type": "code",
   "execution_count": 46,
   "metadata": {},
   "outputs": [
    {
     "name": "stdout",
     "output_type": "stream",
     "text": [
      "Model: \"sequential_10\"\n",
      "_________________________________________________________________\n",
      "Layer (type)                 Output Shape              Param #   \n",
      "=================================================================\n",
      "dense_43 (Dense)             (None, 784)               615440    \n",
      "_________________________________________________________________\n",
      "dense_44 (Dense)             (None, 784)               615440    \n",
      "_________________________________________________________________\n",
      "dense_45 (Dense)             (None, 26)                20410     \n",
      "=================================================================\n",
      "Total params: 1,251,290\n",
      "Trainable params: 1,251,290\n",
      "Non-trainable params: 0\n",
      "_________________________________________________________________\n"
     ]
    }
   ],
   "source": [
    "L_model.summary()"
   ]
  },
  {
   "cell_type": "code",
   "execution_count": 47,
   "metadata": {
    "scrolled": true
   },
   "outputs": [
    {
     "data": {
      "image/png": "[encoded data removed]",
      "text/plain": [
       "<Figure size 432x288 with 1 Axes>"
      ]
     },
     "metadata": {
      "needs_background": "light"
     },
     "output_type": "display_data"
    },
    {
     "data": {
      "image/png": "[encoded data removed]",
      "text/plain": [
       "<Figure size 432x288 with 1 Axes>"
      ]
     },
     "metadata": {
      "needs_background": "light"
     },
     "output_type": "display_data"
    },
    {
     "data": {
      "image/png": "[encoded data removed]",
      "text/plain": [
       "<Figure size 432x288 with 1 Axes>"
      ]
     },
     "metadata": {
      "needs_background": "light"
     },
     "output_type": "display_data"
    },
    {
     "data": {
      "text/plain": [
       "[<matplotlib.lines.Line2D at 0x1e98c8dc3a0>]"
      ]
     },
     "execution_count": 47,
     "metadata": {},
     "output_type": "execute_result"
    },
    {
     "data": {
      "image/png": "[encoded data removed]",
      "text/plain": [
       "<Figure size 432x288 with 1 Axes>"
      ]
     },
     "metadata": {
      "needs_background": "light"
     },
     "output_type": "display_data"
    }
   ],
   "source": [
    "n1 = img_to_data(\"img/n.png\",28)\n",
    "r1 = img_to_data(\"img/r.png\",28)\n",
    "t1 = img_to_data(\"img/t.png\",28)\n",
    "\n",
    "\n",
    "ass = np.array([n1,r1,t1])\n",
    "ass = ass.reshape((ass.shape[0], 28*28))\n",
    "t_images_reshaped = t_images.reshape((t_images.shape[0], 28*28))\n",
    "\n",
    "show_char(t_images[1])\n",
    "show_char(n1)\n",
    "show_char(t1)\n",
    "\n",
    "plt.plot(L_model.history.history['val_loss'], 'r')"
   ]
  },
  {
   "cell_type": "code",
   "execution_count": 48,
   "metadata": {
    "scrolled": true
   },
   "outputs": [
    {
     "name": "stdout",
     "output_type": "stream",
     "text": [
      "['n']\n"
     ]
    },
    {
     "data": {
      "image/png": "[encoded data removed]",
      "text/plain": [
       "<Figure size 432x288 with 1 Axes>"
      ]
     },
     "metadata": {
      "needs_background": "light"
     },
     "output_type": "display_data"
    },
    {
     "name": "stdout",
     "output_type": "stream",
     "text": [
      "['r']\n"
     ]
    },
    {
     "data": {
      "image/png": "[encoded data removed]",
      "text/plain": [
       "<Figure size 432x288 with 1 Axes>"
      ]
     },
     "metadata": {
      "needs_background": "light"
     },
     "output_type": "display_data"
    },
    {
     "name": "stdout",
     "output_type": "stream",
     "text": [
      "['t']\n"
     ]
    },
    {
     "data": {
      "image/png": "[encoded data removed]",
      "text/plain": [
       "<Figure size 432x288 with 1 Axes>"
      ]
     },
     "metadata": {
      "needs_background": "light"
     },
     "output_type": "display_data"
    },
    {
     "name": "stdout",
     "output_type": "stream",
     "text": [
      "['a']\n"
     ]
    },
    {
     "data": {
      "image/png": "[encoded data removed]",
      "text/plain": [
       "<Figure size 432x288 with 1 Axes>"
      ]
     },
     "metadata": {
      "needs_background": "light"
     },
     "output_type": "display_data"
    }
   ],
   "source": [
    "def alph_res(pred):\n",
    "    return (alphabet[pred == max(pred)])\n",
    "\n",
    "pred = L_model.predict(t_images_reshaped)\n",
    "pred2 = L_model.predict(ass)\n",
    "\n",
    "print(alph_res(pred2[0]))\n",
    "show_char(n1)\n",
    "print(alph_res(pred2[1]))\n",
    "show_char(r1)\n",
    "print(alph_res(pred2[2]))\n",
    "show_char(t1)\n",
    "\n",
    "print(alph_res(pred[0]))\n",
    "show_char(t_images[0])"
   ]
  },
  {
   "cell_type": "code",
   "execution_count": 49,
   "metadata": {},
   "outputs": [],
   "source": [
    "## export model\n",
    "# model.save(\"digits_model.h5py\")\n",
    "#L_model.save(\"letters_model.h5py\")"
   ]
  }
 ],
 "metadata": {
  "kernelspec": {
   "display_name": "Python 3",
   "language": "python",
   "name": "python3"
  },
  "language_info": {
   "codemirror_mode": {
    "name": "ipython",
    "version": 3
   },
   "file_extension": ".py",
   "mimetype": "text/x-python",
   "name": "python",
   "nbconvert_exporter": "python",
   "pygments_lexer": "ipython3",
   "version": "3.8.3"
  }
 },
 "nbformat": 4,
 "nbformat_minor": 2
}
