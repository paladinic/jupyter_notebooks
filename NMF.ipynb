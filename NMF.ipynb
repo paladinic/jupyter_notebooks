{
 "cells": [
  {
   "cell_type": "markdown",
   "metadata": {},
   "source": [
    "# NMF\n",
    "##### Non-negative Matrix Factorization\n",
    "##### Dimension Reduction\n",
    "info: https://mlexplained.com/2017/12/28/a-practical-introduction-to-nmf-nonnegative-matrix-factorization/"
   ]
  },
  {
   "cell_type": "code",
   "execution_count": null,
   "metadata": {},
   "outputs": [],
   "source": [
    "import numpy as np\n",
    "from sklearn.datasets import fetch_20newsgroups \n",
    "from sklearn.feature_extraction.text import TfidfVectorizer\n",
    "from sklearn.decomposition import NMF"
   ]
  },
  {
   "cell_type": "code",
   "execution_count": null,
   "metadata": {},
   "outputs": [],
   "source": [
    "data= fetch_20newsgroups(remove=('headers', 'footers', 'quotes')).data"
   ]
  },
  {
   "cell_type": "code",
   "execution_count": null,
   "metadata": {},
   "outputs": [],
   "source": [
    "# convert the text to a tf-idf weighted term-document matrix \n",
    "vectorizer = TfidfVectorizer(max_features=2000, min_df=10, stop_words='english')\n",
    "X = vectorizer.fit_transform(data)\n",
    "idx_to_word = np.array(vectorizer.get_feature_names())"
   ]
  },
  {
   "cell_type": "code",
   "execution_count": null,
   "metadata": {},
   "outputs": [],
   "source": [
    "# apply NMF\n",
    "nmf = NMF(n_components=20, solver=\"mu\")\n",
    "W = nmf.fit_transform(X)\n",
    "H = nmf.components_"
   ]
  },
  {
   "cell_type": "code",
   "execution_count": 99,
   "metadata": {},
   "outputs": [
    {
     "name": "stdout",
     "output_type": "stream",
     "text": [
      "Topic 1: said,right,just,say,way,really,did,ve,good,time\n",
      "Topic 2: information,email,appreciated,help,info,looking,hi,advance,mail,thanks\n",
      "Topic 3: lord,church,christians,christian,believe,faith,christ,bible,jesus,god\n",
      "Topic 4: nsa,algorithm,public,escrow,government,keys,clipper,encryption,chip,key\n",
      "Topic 5: mac,cd,floppy,controller,ide,hard,drives,disk,scsi,drive\n",
      "Topic 6: 20,50,price,condition,offer,shipping,10,new,sale,00\n",
      "Topic 7: problem,running,using,use,program,files,window,dos,file,windows\n",
      "Topic 8: teams,win,hockey,play,season,players,year,games,team,game\n",
      "Topic 9: pub,cc,ftp,university,cs,soon,banks,gordon,pitt,edu\n",
      "Topic 10: new,oil,speed,good,miles,dealer,engine,bike,cars,car\n",
      "Topic 11: ram,color,driver,bus,vga,cards,drivers,monitor,video,card\n",
      "Topic 12: doesn,exactly,appreciated,exist,work,help,mean,anybody,know,does\n",
      "Topic 13: station,gov,moon,earth,program,orbit,launch,shuttle,nasa,space\n",
      "Topic 14: animals,lot,agree,moral,david,pretty,need,people,don,think\n",
      "Topic 15: know,sound,ll,wondering,look,looks,new,sounds,just,like\n",
      "Topic 16: file,sorry,maybe,tell,read,anybody,let,just,don,know\n",
      "Topic 17: land,state,war,peace,arabs,jewish,arab,jews,israeli,israel\n",
      "Topic 18: uunet,email,hp,sun,bob,internet,list,article,dave,com\n",
      "Topic 19: russian,soviet,government,genocide,turks,turkey,armenia,turkish,armenians,armenian\n",
      "Topic 20: militia,crime,law,right,rights,guns,gun,government,use,people\n"
     ]
    }
   ],
   "source": [
    "# print the topics\n",
    "for i, topic in enumerate(H):\n",
    " \n",
    "    print(\"Topic {}: {}\".format(i + 1, \",\".join([str(x) for x in idx_to_word[topic.argsort()[-10:]]])))"
   ]
  }
 ],
 "metadata": {
  "kernelspec": {
   "display_name": "Python 3",
   "language": "python",
   "name": "python3"
  },
  "language_info": {
   "codemirror_mode": {
    "name": "ipython",
    "version": 3
   },
   "file_extension": ".py",
   "mimetype": "text/x-python",
   "name": "python",
   "nbconvert_exporter": "python",
   "pygments_lexer": "ipython3",
   "version": "3.8.5"
  }
 },
 "nbformat": 4,
 "nbformat_minor": 4
}
