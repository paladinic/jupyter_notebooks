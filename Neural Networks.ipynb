{
 "cells": [
  {
   "cell_type": "code",
   "execution_count": 6,
   "metadata": {},
   "outputs": [
    {
     "name": "stderr",
     "output_type": "stream",
     "text": [
      "ERROR: Could not find a version that satisfies the requirement sklearn.cross_validation (from versions: none)\n",
      "ERROR: No matching distribution found for sklearn.cross_validation\n"
     ]
    }
   ],
   "source": [
    "!pip install sklearn.cross_validation"
   ]
  },
  {
   "cell_type": "code",
   "execution_count": 7,
   "metadata": {},
   "outputs": [],
   "source": [
    "# libs\n",
    "import cv2\n",
    "from emnist import extract_training_samples,extract_test_samples\n",
    "\n",
    "import matplotlib.pyplot as plt\n",
    "\n",
    "import pandas as pd\n",
    "import numpy as np\n",
    "\n",
    "from keras.layers import Dense\n",
    "from keras.models import Sequential, load_model\n",
    "from keras.utils import to_categorical\n",
    "from keras.callbacks import EarlyStopping\n",
    "\n",
    "from sklearn import datasets\n",
    "from sklearn.model_selection import train_test_split"
   ]
  },
  {
   "cell_type": "code",
   "execution_count": 8,
   "metadata": {},
   "outputs": [
    {
     "data": {
      "image/png": "[encoded data removed]",
      "text/plain": [
       "<Figure size 432x288 with 1 Axes>"
      ]
     },
     "metadata": {
      "needs_background": "light"
     },
     "output_type": "display_data"
    }
   ],
   "source": [
    "# data\n",
    "digits = datasets.load_digits()\n",
    "\n",
    "x = digits.data\n",
    "n_cols = x.shape[1]\n",
    "y = digits.target\n",
    "y_binary = to_categorical(y)\n",
    "\n",
    "plt.imshow(digits.images[2], cmap=plt.cm.gray_r, interpolation='nearest')\n",
    "plt.show()"
   ]
  },
  {
   "cell_type": "code",
   "execution_count": 9,
   "metadata": {},
   "outputs": [],
   "source": [
    "early_stopping_monitor = EarlyStopping(patience = 5)"
   ]
  },
  {
   "cell_type": "code",
   "execution_count": 10,
   "metadata": {},
   "outputs": [],
   "source": [
    "# model\n",
    "model = Sequential()\n",
    "model.add(Dense(2000, activation=\"relu\", input_shape = (n_cols,)))\n",
    "model.add(Dense(2000, activation=\"relu\"))\n",
    "model.add(Dense(2000, activation=\"relu\"))\n",
    "model.add(Dense(10,activation=\"softmax\"))\n",
    "model.compile(optimizer=\"adam\",\n",
    "              loss=\"categorical_crossentropy\",\n",
    "              metrics = [\"accuracy\"])\n",
    "\n",
    "model2 = Sequential()\n",
    "model2.add(Dense(2000, activation=\"relu\", input_shape = (n_cols,)))\n",
    "model2.add(Dense(2000, activation=\"relu\"))\n",
    "model2.add(Dense(10,activation=\"softmax\"))\n",
    "model2.compile(optimizer=\"adam\",\n",
    "              loss=\"categorical_crossentropy\",\n",
    "              metrics = [\"accuracy\"])\n",
    "\n",
    "model3 = Sequential()\n",
    "model3.add(Dense(500, activation=\"relu\", input_shape = (n_cols,)))\n",
    "model3.add(Dense(500, activation=\"relu\"))\n",
    "model3.add(Dense(500, activation=\"relu\"))\n",
    "model3.add(Dense(10,activation=\"softmax\"))\n",
    "model3.compile(optimizer=\"adam\",\n",
    "              loss=\"categorical_crossentropy\",\n",
    "              metrics = [\"accuracy\"])\n"
   ]
  },
  {
   "cell_type": "code",
   "execution_count": 11,
   "metadata": {},
   "outputs": [
    {
     "name": "stdout",
     "output_type": "stream",
     "text": [
      "Epoch 1/20\n",
      "45/45 [==============================] - 2s 50ms/step - loss: 1.4304 - accuracy: 0.7947 - val_loss: 0.3284 - val_accuracy: 0.9167\n",
      "Epoch 2/20\n",
      "45/45 [==============================] - 2s 46ms/step - loss: 0.0762 - accuracy: 0.9763 - val_loss: 0.3109 - val_accuracy: 0.9194\n",
      "Epoch 3/20\n",
      "45/45 [==============================] - 2s 47ms/step - loss: 0.0589 - accuracy: 0.9798 - val_loss: 0.5065 - val_accuracy: 0.8639\n",
      "Epoch 4/20\n",
      "45/45 [==============================] - 2s 45ms/step - loss: 0.0917 - accuracy: 0.9736 - val_loss: 0.4564 - val_accuracy: 0.8917\n",
      "Epoch 5/20\n",
      "45/45 [==============================] - 2s 45ms/step - loss: 0.0552 - accuracy: 0.9812 - val_loss: 0.4044 - val_accuracy: 0.9111\n",
      "Epoch 6/20\n",
      "45/45 [==============================] - 2s 46ms/step - loss: 0.0985 - accuracy: 0.9701 - val_loss: 0.3420 - val_accuracy: 0.9028\n",
      "Epoch 7/20\n",
      "45/45 [==============================] - 3s 56ms/step - loss: 0.0710 - accuracy: 0.9805 - val_loss: 0.3025 - val_accuracy: 0.9083\n",
      "Epoch 8/20\n",
      "45/45 [==============================] - 3s 57ms/step - loss: 0.0090 - accuracy: 0.9979 - val_loss: 0.2608 - val_accuracy: 0.9417\n",
      "Epoch 9/20\n",
      "45/45 [==============================] - 3s 56ms/step - loss: 7.4257e-04 - accuracy: 1.0000 - val_loss: 0.2860 - val_accuracy: 0.9417\n",
      "Epoch 10/20\n",
      "45/45 [==============================] - 3s 56ms/step - loss: 3.2201e-04 - accuracy: 1.0000 - val_loss: 0.2804 - val_accuracy: 0.9361\n",
      "Epoch 11/20\n",
      "45/45 [==============================] - 3s 56ms/step - loss: 7.1015e-05 - accuracy: 1.0000 - val_loss: 0.2785 - val_accuracy: 0.9417\n",
      "Epoch 12/20\n",
      "45/45 [==============================] - 2s 55ms/step - loss: 2.5821e-05 - accuracy: 1.0000 - val_loss: 0.2871 - val_accuracy: 0.9444\n",
      "Epoch 13/20\n",
      "45/45 [==============================] - 2s 55ms/step - loss: 1.6373e-05 - accuracy: 1.0000 - val_loss: 0.2950 - val_accuracy: 0.9444\n",
      "Epoch 1/20\n",
      "45/45 [==============================] - 1s 32ms/step - loss: 1.4118 - accuracy: 0.8198 - val_loss: 0.4221 - val_accuracy: 0.8639\n",
      "Epoch 2/20\n",
      "45/45 [==============================] - 1s 28ms/step - loss: 0.0594 - accuracy: 0.9784 - val_loss: 0.2193 - val_accuracy: 0.9333\n",
      "Epoch 3/20\n",
      "45/45 [==============================] - 1s 29ms/step - loss: 0.0197 - accuracy: 0.9951 - val_loss: 0.2163 - val_accuracy: 0.9472\n",
      "Epoch 4/20\n",
      "45/45 [==============================] - 1s 29ms/step - loss: 0.0072 - accuracy: 0.9986 - val_loss: 0.2306 - val_accuracy: 0.9306\n",
      "Epoch 5/20\n",
      "45/45 [==============================] - 1s 29ms/step - loss: 0.0017 - accuracy: 1.0000 - val_loss: 0.2143 - val_accuracy: 0.9361\n",
      "Epoch 6/20\n",
      "45/45 [==============================] - 1s 29ms/step - loss: 6.6739e-04 - accuracy: 1.0000 - val_loss: 0.2296 - val_accuracy: 0.9389\n",
      "Epoch 7/20\n",
      "45/45 [==============================] - 1s 29ms/step - loss: 3.7793e-04 - accuracy: 1.0000 - val_loss: 0.2274 - val_accuracy: 0.9444\n",
      "Epoch 8/20\n",
      "45/45 [==============================] - 1s 29ms/step - loss: 2.6764e-04 - accuracy: 1.0000 - val_loss: 0.2391 - val_accuracy: 0.9417\n",
      "Epoch 9/20\n",
      "45/45 [==============================] - 1s 29ms/step - loss: 1.9054e-04 - accuracy: 1.0000 - val_loss: 0.2582 - val_accuracy: 0.9389\n",
      "Epoch 10/20\n",
      "45/45 [==============================] - 1s 29ms/step - loss: 1.6045e-04 - accuracy: 1.0000 - val_loss: 0.2503 - val_accuracy: 0.9444\n",
      "Epoch 1/20\n",
      "45/45 [==============================] - 0s 8ms/step - loss: 0.5904 - accuracy: 0.8420 - val_loss: 0.3438 - val_accuracy: 0.8889\n",
      "Epoch 2/20\n",
      "45/45 [==============================] - 0s 4ms/step - loss: 0.0659 - accuracy: 0.9791 - val_loss: 0.2639 - val_accuracy: 0.9222\n",
      "Epoch 3/20\n",
      "45/45 [==============================] - 0s 4ms/step - loss: 0.0276 - accuracy: 0.9903 - val_loss: 0.2538 - val_accuracy: 0.9250\n",
      "Epoch 4/20\n",
      "45/45 [==============================] - 0s 5ms/step - loss: 0.0217 - accuracy: 0.9930 - val_loss: 0.2482 - val_accuracy: 0.9278\n",
      "Epoch 5/20\n",
      "45/45 [==============================] - 0s 5ms/step - loss: 0.0091 - accuracy: 0.9986 - val_loss: 0.2161 - val_accuracy: 0.9333\n",
      "Epoch 6/20\n",
      "45/45 [==============================] - 0s 5ms/step - loss: 0.0076 - accuracy: 0.9979 - val_loss: 0.2384 - val_accuracy: 0.9472\n",
      "Epoch 7/20\n",
      "45/45 [==============================] - 0s 5ms/step - loss: 0.0053 - accuracy: 0.9986 - val_loss: 0.3328 - val_accuracy: 0.9333\n",
      "Epoch 8/20\n",
      "45/45 [==============================] - 0s 5ms/step - loss: 0.0018 - accuracy: 0.9993 - val_loss: 0.1993 - val_accuracy: 0.9472\n",
      "Epoch 9/20\n",
      "45/45 [==============================] - 0s 5ms/step - loss: 0.0075 - accuracy: 0.9986 - val_loss: 0.2285 - val_accuracy: 0.9472\n",
      "Epoch 10/20\n",
      "45/45 [==============================] - 0s 5ms/step - loss: 0.0325 - accuracy: 0.9916 - val_loss: 0.2612 - val_accuracy: 0.9417\n",
      "Epoch 11/20\n",
      "45/45 [==============================] - 0s 5ms/step - loss: 0.0840 - accuracy: 0.9736 - val_loss: 0.5669 - val_accuracy: 0.8889\n",
      "Epoch 12/20\n",
      "45/45 [==============================] - 0s 5ms/step - loss: 0.0907 - accuracy: 0.9701 - val_loss: 0.4510 - val_accuracy: 0.9111\n",
      "Epoch 13/20\n",
      "45/45 [==============================] - 0s 5ms/step - loss: 0.0387 - accuracy: 0.9889 - val_loss: 0.4232 - val_accuracy: 0.9111\n"
     ]
    },
    {
     "data": {
      "text/plain": [
       "<tensorflow.python.keras.callbacks.History at 0x18f1dad5400>"
      ]
     },
     "execution_count": 11,
     "metadata": {},
     "output_type": "execute_result"
    }
   ],
   "source": [
    "model.fit(x,y_binary,epochs=20,validation_split=.2,callbacks=[early_stopping_monitor])\n",
    "model2.fit(x,y_binary,epochs=20,validation_split=.2,callbacks=[early_stopping_monitor])\n",
    "model3.fit(x,y_binary,epochs=20,validation_split=.2,callbacks=[early_stopping_monitor])"
   ]
  },
  {
   "cell_type": "code",
   "execution_count": 12,
   "metadata": {},
   "outputs": [
    {
     "data": {
      "image/png": "[encoded data removed]",
      "text/plain": [
       "<Figure size 432x288 with 1 Axes>"
      ]
     },
     "metadata": {
      "needs_background": "light"
     },
     "output_type": "display_data"
    }
   ],
   "source": [
    "plt.plot(model.history.history['val_loss'], 'r', \n",
    "         model2.history.history['val_loss'], 'g',\n",
    "         model3.history.history['val_loss'], 'b')\n",
    "plt.xlabel('Epochs')\n",
    "plt.ylabel('Validation score')\n",
    "plt.show()"
   ]
  },
  {
   "cell_type": "code",
   "execution_count": 16,
   "metadata": {
    "scrolled": true
   },
   "outputs": [],
   "source": [
    "def img_to_data(src,n):\n",
    "    originalImage = cv2.imread(src)\n",
    "    grayImage = cv2.cvtColor(originalImage, cv2.COLOR_BGR2GRAY)\n",
    "    resizedImage = cv2.resize(grayImage, (n,n))\n",
    "    rescaledImage = 16 - resizedImage*(16/255)\n",
    "    return rescaledImage\n",
    "\n",
    "def show_char(d):\n",
    "    plt.imshow(d, cmap=plt.cm.gray_r, interpolation='nearest')\n",
    "    plt.show()\n",
    "    \n",
    "def dig_res(pred):\n",
    "    digs = np.array([0,1,2,3,4,5,6,7,8,9])\n",
    "    print(str(digs[max(pred) == pred]))\n",
    "\n",
    "src1 = 'c:/Users/44751/Desktop/Data/Data/otto.png'\n",
    "src2 = 'c:/Users/44751/Desktop/Data/Data/otto.png'\n",
    "src3 = 'c:/Users/44751/Desktop/Data/Data/five.png'\n",
    "\n",
    "img1 = img_to_data(src1,8)\n",
    "img2 = img_to_data(src2,8)\n",
    "img3 = img_to_data(src3,8)\n",
    "\n",
    "imgs = np.array([img1.reshape(-1),\n",
    "                img2.reshape(-1),\n",
    "                img3.reshape(-1)])"
   ]
  },
  {
   "cell_type": "code",
   "execution_count": 17,
   "metadata": {},
   "outputs": [],
   "source": [
    "pred = model.predict(np.array([img1.reshape(-1)]))"
   ]
  },
  {
   "cell_type": "code",
   "execution_count": 18,
   "metadata": {},
   "outputs": [
    {
     "data": {
      "text/plain": [
       "8"
      ]
     },
     "execution_count": 18,
     "metadata": {},
     "output_type": "execute_result"
    }
   ],
   "source": [
    "pred.argmax()"
   ]
  },
  {
   "cell_type": "code",
   "execution_count": 19,
   "metadata": {},
   "outputs": [
    {
     "data": {
      "image/png": "[encoded data removed]",
      "text/plain": [
       "<Figure size 432x288 with 1 Axes>"
      ]
     },
     "metadata": {
      "needs_background": "light"
     },
     "output_type": "display_data"
    },
    {
     "name": "stdout",
     "output_type": "stream",
     "text": [
      "[8]\n"
     ]
    },
    {
     "data": {
      "image/png": "[encoded data removed]",
      "text/plain": [
       "<Figure size 432x288 with 1 Axes>"
      ]
     },
     "metadata": {
      "needs_background": "light"
     },
     "output_type": "display_data"
    },
    {
     "name": "stdout",
     "output_type": "stream",
     "text": [
      "[8]\n"
     ]
    },
    {
     "data": {
      "image/png": "[encoded data removed]",
      "text/plain": [
       "<Figure size 432x288 with 1 Axes>"
      ]
     },
     "metadata": {
      "needs_background": "light"
     },
     "output_type": "display_data"
    },
    {
     "name": "stdout",
     "output_type": "stream",
     "text": [
      "[5]\n"
     ]
    }
   ],
   "source": [
    "pred = model.predict(imgs)\n",
    "show_char(img1)\n",
    "dig_res(pred[0])\n",
    "show_char(img2)\n",
    "dig_res(pred[1])\n",
    "show_char(img3)\n",
    "dig_res(pred[2])"
   ]
  },
  {
   "cell_type": "code",
   "execution_count": 20,
   "metadata": {},
   "outputs": [
    {
     "name": "stderr",
     "output_type": "stream",
     "text": [
      "Downloading emnist.zip: 536MB [02:37, 3.57MB/s] \n"
     ]
    },
    {
     "data": {
      "image/png": "[encoded data removed]",
      "text/plain": [
       "<Figure size 432x288 with 1 Axes>"
      ]
     },
     "metadata": {
      "needs_background": "light"
     },
     "output_type": "display_data"
    },
    {
     "data": {
      "image/png": "[encoded data removed]",
      "text/plain": [
       "<Figure size 432x288 with 1 Axes>"
      ]
     },
     "metadata": {
      "needs_background": "light"
     },
     "output_type": "display_data"
    }
   ],
   "source": [
    "# data - letters\n",
    "images, labels = extract_training_samples('letters')\n",
    "t_images, t_labels = extract_test_samples('letters')\n",
    "reshapedImages = images.reshape( (images.shape[0], 28*28))\n",
    "labels_binary = to_categorical(labels - 1)\n",
    "\n",
    "alphabet = np.array([\"a\",\"b\",\"c\",\"d\",\"e\",\"f\",\"g\",\"h\",\"i\",\"j\",\"k\",\"l\",\"m\",\"n\",\"o\",\"p\",\"q\",\"r\",\"s\",\"t\",\"u\",\"v\",\"w\",\"x\",\"y\",\"z\"])\n",
    "\n",
    "show_char(images[1])\n",
    "show_char(t_images[1])"
   ]
  },
  {
   "cell_type": "code",
   "execution_count": 21,
   "metadata": {
    "scrolled": false
   },
   "outputs": [
    {
     "name": "stdout",
     "output_type": "stream",
     "text": [
      "Epoch 1/20\n",
      "3120/3120 [==============================] - 56s 18ms/step - loss: 1.1301 - accuracy: 0.7488 - val_loss: 0.6256 - val_accuracy: 0.8175\n",
      "Epoch 2/20\n",
      "3120/3120 [==============================] - 59s 19ms/step - loss: 0.5803 - accuracy: 0.8272 - val_loss: 0.5686 - val_accuracy: 0.8365\n",
      "Epoch 3/20\n",
      "3120/3120 [==============================] - 63s 20ms/step - loss: 0.5156 - accuracy: 0.8496 - val_loss: 0.5171 - val_accuracy: 0.8588\n",
      "Epoch 4/20\n",
      "3120/3120 [==============================] - 61s 20ms/step - loss: 0.4612 - accuracy: 0.8665 - val_loss: 0.5268 - val_accuracy: 0.8583\n",
      "Epoch 5/20\n",
      "3120/3120 [==============================] - 61s 20ms/step - loss: 0.4220 - accuracy: 0.8774 - val_loss: 0.5212 - val_accuracy: 0.8640\n",
      "Epoch 6/20\n",
      "3120/3120 [==============================] - 61s 20ms/step - loss: 0.3989 - accuracy: 0.8854 - val_loss: 0.4731 - val_accuracy: 0.8749\n",
      "Epoch 7/20\n",
      "3120/3120 [==============================] - 61s 20ms/step - loss: 0.3761 - accuracy: 0.8927 - val_loss: 0.4884 - val_accuracy: 0.8698\n",
      "Epoch 8/20\n",
      "3120/3120 [==============================] - 62s 20ms/step - loss: 0.3564 - accuracy: 0.8980 - val_loss: 0.4817 - val_accuracy: 0.8740\n",
      "Epoch 9/20\n",
      "3120/3120 [==============================] - 61s 20ms/step - loss: 0.3464 - accuracy: 0.9023 - val_loss: 0.4623 - val_accuracy: 0.8839\n",
      "Epoch 10/20\n",
      "3120/3120 [==============================] - 64s 20ms/step - loss: 0.3268 - accuracy: 0.9063 - val_loss: 0.4742 - val_accuracy: 0.8865\n",
      "Epoch 11/20\n",
      "3120/3120 [==============================] - 63s 20ms/step - loss: 0.3240 - accuracy: 0.9087 - val_loss: 0.4694 - val_accuracy: 0.8945\n",
      "Epoch 12/20\n",
      "3120/3120 [==============================] - 61s 20ms/step - loss: 0.3217 - accuracy: 0.9111 - val_loss: 0.5966 - val_accuracy: 0.8724\n",
      "Epoch 13/20\n",
      "3120/3120 [==============================] - 62s 20ms/step - loss: 0.3150 - accuracy: 0.9129 - val_loss: 0.5547 - val_accuracy: 0.8872\n",
      "Epoch 14/20\n",
      "3120/3120 [==============================] - 63s 20ms/step - loss: 0.3110 - accuracy: 0.9148 - val_loss: 0.5353 - val_accuracy: 0.8916\n"
     ]
    },
    {
     "data": {
      "text/plain": [
       "<tensorflow.python.keras.callbacks.History at 0x18f20f80fd0>"
      ]
     },
     "execution_count": 21,
     "metadata": {},
     "output_type": "execute_result"
    }
   ],
   "source": [
    "# model - letters\n",
    "n_cols = len(reshapedImages[1])\n",
    "\n",
    "L_model = Sequential()\n",
    "L_model.add(Dense(784, activation=\"relu\", input_shape = (n_cols,)))\n",
    "L_model.add(Dense(784, activation=\"relu\"))\n",
    "L_model.add(Dense(784, activation=\"relu\"))\n",
    "L_model.add(Dense(784, activation=\"relu\"))\n",
    "L_model.add(Dense(26,activation=\"softmax\"))\n",
    "L_model.compile(optimizer=\"adam\",\n",
    "              loss=\"categorical_crossentropy\",\n",
    "              metrics = [\"accuracy\"])\n",
    "\n",
    "L_model.fit(reshapedImages,\n",
    "            labels_binary,\n",
    "            epochs=20,\n",
    "            validation_split=.2,\n",
    "            callbacks=[early_stopping_monitor])"
   ]
  },
  {
   "cell_type": "code",
   "execution_count": 42,
   "metadata": {},
   "outputs": [
    {
     "name": "stdout",
     "output_type": "stream",
     "text": [
      "Model: \"sequential_3\"\n",
      "_________________________________________________________________\n",
      "Layer (type)                 Output Shape              Param #   \n",
      "=================================================================\n",
      "dense_11 (Dense)             (None, 784)               615440    \n",
      "_________________________________________________________________\n",
      "dense_12 (Dense)             (None, 784)               615440    \n",
      "_________________________________________________________________\n",
      "dense_13 (Dense)             (None, 784)               615440    \n",
      "_________________________________________________________________\n",
      "dense_14 (Dense)             (None, 784)               615440    \n",
      "_________________________________________________________________\n",
      "dense_15 (Dense)             (None, 26)                20410     \n",
      "=================================================================\n",
      "Total params: 2,482,170\n",
      "Trainable params: 2,482,170\n",
      "Non-trainable params: 0\n",
      "_________________________________________________________________\n"
     ]
    }
   ],
   "source": [
    "L_model.summary()"
   ]
  },
  {
   "cell_type": "code",
   "execution_count": 25,
   "metadata": {
    "scrolled": true
   },
   "outputs": [
    {
     "data": {
      "image/png": "[encoded data removed]",
      "text/plain": [
       "<Figure size 432x288 with 1 Axes>"
      ]
     },
     "metadata": {
      "needs_background": "light"
     },
     "output_type": "display_data"
    },
    {
     "data": {
      "image/png": "[encoded data removed]",
      "text/plain": [
       "<Figure size 432x288 with 1 Axes>"
      ]
     },
     "metadata": {
      "needs_background": "light"
     },
     "output_type": "display_data"
    },
    {
     "data": {
      "image/png": "[encoded data removed]",
      "text/plain": [
       "<Figure size 432x288 with 1 Axes>"
      ]
     },
     "metadata": {
      "needs_background": "light"
     },
     "output_type": "display_data"
    },
    {
     "data": {
      "text/plain": [
       "[<matplotlib.lines.Line2D at 0x18f2d180f70>]"
      ]
     },
     "execution_count": 25,
     "metadata": {},
     "output_type": "execute_result"
    },
    {
     "data": {
      "image/png": "[encoded data removed]",
      "text/plain": [
       "<Figure size 432x288 with 1 Axes>"
      ]
     },
     "metadata": {
      "needs_background": "light"
     },
     "output_type": "display_data"
    }
   ],
   "source": [
    "n1 = img_to_data(\"c:/Users/44751/Desktop/Data/Data/n.png\",28)\n",
    "r1 = img_to_data(\"c:/Users/44751/Desktop/Data/Data/r.png\",28)\n",
    "t1 = img_to_data(\"c:/Users/44751/Desktop/Data/Data/t.png\",28)\n",
    "\n",
    "\n",
    "ass = np.array([n1,r1,t1])\n",
    "ass = ass.reshape((ass.shape[0], 28*28))\n",
    "t_images_reshaped = t_images.reshape((t_images.shape[0], 28*28))\n",
    "\n",
    "show_char(t_images[1])\n",
    "show_char(n1)\n",
    "show_char(t1)\n",
    "\n",
    "plt.plot(L_model.history.history['val_loss'], 'r')"
   ]
  },
  {
   "cell_type": "code",
   "execution_count": 29,
   "metadata": {
    "scrolled": true
   },
   "outputs": [
    {
     "name": "stdout",
     "output_type": "stream",
     "text": [
      "['n']\n"
     ]
    },
    {
     "data": {
      "image/png": "[encoded data removed]",
      "text/plain": [
       "<Figure size 432x288 with 1 Axes>"
      ]
     },
     "metadata": {
      "needs_background": "light"
     },
     "output_type": "display_data"
    },
    {
     "name": "stdout",
     "output_type": "stream",
     "text": [
      "['r']\n"
     ]
    },
    {
     "data": {
      "image/png": "[encoded data removed]",
      "text/plain": [
       "<Figure size 432x288 with 1 Axes>"
      ]
     },
     "metadata": {
      "needs_background": "light"
     },
     "output_type": "display_data"
    },
    {
     "name": "stdout",
     "output_type": "stream",
     "text": [
      "['t']\n"
     ]
    },
    {
     "data": {
      "image/png": "[encoded data removed]",
      "text/plain": [
       "<Figure size 432x288 with 1 Axes>"
      ]
     },
     "metadata": {
      "needs_background": "light"
     },
     "output_type": "display_data"
    },
    {
     "name": "stdout",
     "output_type": "stream",
     "text": [
      "['a']\n"
     ]
    },
    {
     "data": {
      "image/png": "[encoded data removed]",
      "text/plain": [
       "<Figure size 432x288 with 1 Axes>"
      ]
     },
     "metadata": {
      "needs_background": "light"
     },
     "output_type": "display_data"
    }
   ],
   "source": [
    "def alph_res(pred):\n",
    "    return (alphabet[pred == max(pred)])\n",
    "\n",
    "pred = L_model.predict(t_images_reshaped)\n",
    "pred2 = L_model.predict(ass)\n",
    "\n",
    "print(alph_res(pred2[0]))\n",
    "show_char(n1)\n",
    "print(alph_res(pred2[1]))\n",
    "show_char(r1)\n",
    "print(alph_res(pred2[2]))\n",
    "show_char(t1)\n",
    "print(alph_res(pred[0]))\n",
    "show_char(t_images[0])"
   ]
  },
  {
   "cell_type": "code",
   "execution_count": 30,
   "metadata": {},
   "outputs": [
    {
     "name": "stdout",
     "output_type": "stream",
     "text": [
      "WARNING:tensorflow:From C:\\Users\\44751\\anaconda3\\lib\\site-packages\\tensorflow\\python\\training\\tracking\\tracking.py:111: Model.state_updates (from tensorflow.python.keras.engine.training) is deprecated and will be removed in a future version.\n",
      "Instructions for updating:\n",
      "This property should not be used in TensorFlow 2.0, as updates are applied automatically.\n",
      "WARNING:tensorflow:From C:\\Users\\44751\\anaconda3\\lib\\site-packages\\tensorflow\\python\\training\\tracking\\tracking.py:111: Layer.updates (from tensorflow.python.keras.engine.base_layer) is deprecated and will be removed in a future version.\n",
      "Instructions for updating:\n",
      "This property should not be used in TensorFlow 2.0, as updates are applied automatically.\n",
      "INFO:tensorflow:Assets written to: digits_model.h5py\\assets\n",
      "INFO:tensorflow:Assets written to: letters_model.h5py\\assets\n"
     ]
    }
   ],
   "source": [
    "# export model\n",
    "model.save(\"digits_model.h5py\")\n",
    "L_model.save(\"letters_model.h5py\")"
   ]
  },
  {
   "cell_type": "code",
   "execution_count": 36,
   "metadata": {},
   "outputs": [
    {
     "name": "stdout",
     "output_type": "stream",
     "text": [
      "WARNING:tensorflow:6 out of the last 1959 calls to <function Model.make_predict_function.<locals>.predict_function at 0x0000018F20EDEA60> triggered tf.function retracing. Tracing is expensive and the excessive number of tracings could be due to (1) creating @tf.function repeatedly in a loop, (2) passing tensors with different shapes, (3) passing Python objects instead of tensors. For (1), please define your @tf.function outside of the loop. For (2), @tf.function has experimental_relax_shapes=True option that relaxes argument shapes that can avoid unnecessary retracing. For (3), please refer to https://www.tensorflow.org/tutorials/customization/performance#python_or_tensor_args and https://www.tensorflow.org/api_docs/python/tf/function for  more details.\n"
     ]
    },
    {
     "data": {
      "image/png": "[encoded data removed]",
      "text/plain": [
       "<Figure size 432x288 with 1 Axes>"
      ]
     },
     "metadata": {
      "needs_background": "light"
     },
     "output_type": "display_data"
    },
    {
     "data": {
      "text/plain": [
       "'n'"
      ]
     },
     "execution_count": 36,
     "metadata": {},
     "output_type": "execute_result"
    }
   ],
   "source": [
    "def img_to_data(src,n):\n",
    "    originalImage = cv2.imread(src)\n",
    "    grayImage = cv2.cvtColor(originalImage, cv2.COLOR_BGR2GRAY)\n",
    "    resizedImage = cv2.resize(grayImage, (n,n))\n",
    "    rescaledImage = 16 - resizedImage*(16/255)\n",
    "    return rescaledImage\n",
    "\n",
    "def show_char(d):\n",
    "    plt.imshow(d, cmap=plt.cm.gray_r, interpolation='nearest')\n",
    "    plt.show()\n",
    "\n",
    "alphabet = np.array([\"a\",\"b\",\"c\",\"d\",\"e\",\"f\",\"g\",\"h\",\"i\",\"j\",\"k\",\"l\",\"m\",\"n\",\"o\",\"p\",\"q\",\"r\",\"s\",\"t\",\"u\",\"v\",\"w\",\"x\",\"y\",\"z\"])\n",
    "\n",
    "def alph_res(pred):\n",
    "    return alphabet[pred == max(pred)][0]\n",
    "\n",
    "# import model\n",
    "dig_m = load_model(\"digits_model.h5py\")\n",
    "let_m = load_model(\"c:/Users/44751/Desktop/letters_model.h5py\")\n",
    "\n",
    "# summary\n",
    "# dig_m.summary()\n",
    "# let_m.summary()\n",
    "\n",
    "pred = let_m.predict(ass)\n",
    "show_char(n1)\n",
    "alph_res(pred[0])"
   ]
  },
  {
   "cell_type": "code",
   "execution_count": null,
   "metadata": {},
   "outputs": [],
   "source": []
  }
 ],
 "metadata": {
  "kernelspec": {
   "display_name": "Python 3",
   "language": "python",
   "name": "python3"
  },
  "language_info": {
   "codemirror_mode": {
    "name": "ipython",
    "version": 3
   },
   "file_extension": ".py",
   "mimetype": "text/x-python",
   "name": "python",
   "nbconvert_exporter": "python",
   "pygments_lexer": "ipython3",
   "version": "3.8.3"
  }
 },
 "nbformat": 4,
 "nbformat_minor": 2
}
