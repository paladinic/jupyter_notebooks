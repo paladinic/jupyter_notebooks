{
 "cells": [
  {
   "cell_type": "markdown",
   "metadata": {},
   "source": [
    "# KNN"
   ]
  },
  {
   "cell_type": "code",
   "execution_count": 27,
   "metadata": {},
   "outputs": [],
   "source": [
    "from sklearn.neighbors import KNeighborsClassifier\n",
    "from sklearn.model_selection import train_test_split\n",
    "from sklearn.metrics import confusion_matrix\n",
    "\n",
    "import numpy as np\n",
    "import pandas as pd\n",
    "\n",
    "import matplotlib.pyplot as plt"
   ]
  },
  {
   "cell_type": "code",
   "execution_count": 28,
   "metadata": {},
   "outputs": [],
   "source": [
    "data = pd.read_csv(\"https://gist.githubusercontent.com/netj/8836201/raw/6f9306ad21398ea43cba4f7d537619d0e07d5ae3/iris.csv\")"
   ]
  },
  {
   "cell_type": "code",
   "execution_count": 29,
   "metadata": {},
   "outputs": [
    {
     "name": "stdout",
     "output_type": "stream",
     "text": [
      "Index(['sepal.length', 'sepal.width', 'petal.length', 'petal.width',\n",
      "       'variety'],\n",
      "      dtype='object')\n"
     ]
    }
   ],
   "source": [
    "print(data.columns)"
   ]
  },
  {
   "cell_type": "code",
   "execution_count": 39,
   "metadata": {},
   "outputs": [],
   "source": [
    "feature_vars = ['sepal.length', 'sepal.width', 'petal.length', 'petal.width']\n",
    "target_var = \"variety\"\n",
    "\n",
    "X = data[feature_vars]\n",
    "y = data[target_var]\n",
    "\n",
    "xtr,xts,ytr,yts = train_test_split(X,y,train_size = .75)"
   ]
  },
  {
   "cell_type": "code",
   "execution_count": 40,
   "metadata": {},
   "outputs": [
    {
     "name": "stdout",
     "output_type": "stream",
     "text": [
      "0.9733333333333334\n"
     ]
    }
   ],
   "source": [
    "knn = KNeighborsClassifier(n_neighbors=8)\n",
    "knn.fit(X=xtr,y=ytr)\n",
    "\n",
    "print(knn.score(X,y))"
   ]
  },
  {
   "cell_type": "code",
   "execution_count": 41,
   "metadata": {},
   "outputs": [
    {
     "name": "stdout",
     "output_type": "stream",
     "text": [
      "['Virginica' 'Versicolor' 'Versicolor' 'Virginica' 'Setosa' 'Setosa'\n",
      " 'Setosa' 'Versicolor' 'Setosa' 'Versicolor' 'Virginica' 'Setosa'\n",
      " 'Virginica' 'Virginica' 'Versicolor' 'Setosa' 'Virginica' 'Virginica'\n",
      " 'Setosa' 'Virginica' 'Versicolor' 'Setosa' 'Virginica' 'Setosa' 'Setosa'\n",
      " 'Versicolor' 'Versicolor' 'Virginica' 'Virginica' 'Versicolor' 'Setosa'\n",
      " 'Versicolor' 'Virginica' 'Virginica' 'Versicolor' 'Setosa' 'Virginica'\n",
      " 'Virginica']\n",
      "['Virginica' 'Versicolor' 'Versicolor' 'Virginica' 'Setosa' 'Setosa'\n",
      " 'Setosa' 'Versicolor' 'Setosa' 'Versicolor' 'Virginica' 'Setosa'\n",
      " 'Versicolor' 'Virginica' 'Virginica' 'Setosa' 'Virginica' 'Virginica'\n",
      " 'Setosa' 'Virginica' 'Versicolor' 'Setosa' 'Virginica' 'Setosa' 'Setosa'\n",
      " 'Versicolor' 'Versicolor' 'Virginica' 'Virginica' 'Versicolor' 'Setosa'\n",
      " 'Versicolor' 'Virginica' 'Virginica' 'Versicolor' 'Setosa' 'Virginica'\n",
      " 'Virginica']\n",
      "[[12  0  0]\n",
      " [ 0 10  1]\n",
      " [ 0  1 14]]\n"
     ]
    }
   ],
   "source": [
    "pred = knn.predict(xts)\n",
    "print(pred)\n",
    "print(yts.values)\n",
    "print(confusion_matrix(pred,yts))"
   ]
  },
  {
   "cell_type": "code",
   "execution_count": 42,
   "metadata": {},
   "outputs": [],
   "source": [
    "error_rate = []\n",
    "# Will take some time\n",
    "for i in range(1,10):\n",
    " \n",
    "    knn = KNeighborsClassifier(n_neighbors=i)\n",
    "    knn.fit(xtr,ytr)\n",
    "    pred_i = knn.predict(xts)\n",
    "    error_rate.append(np.mean(pred_i != yts))"
   ]
  },
  {
   "cell_type": "code",
   "execution_count": 43,
   "metadata": {},
   "outputs": [
    {
     "data": {
      "image/png": "[encoded data removed]",
      "text/plain": [
       "<Figure size 432x288 with 1 Axes>"
      ]
     },
     "metadata": {
      "needs_background": "light"
     },
     "output_type": "display_data"
    }
   ],
   "source": [
    "plt.plot(range(1,10),error_rate,marker=\"o\")\n",
    "plt.ylabel(\"error rate\")\n",
    "plt.xlabel(\"neighbors\")\n",
    "plt.show()"
   ]
  },
  {
   "cell_type": "code",
   "execution_count": null,
   "metadata": {},
   "outputs": [],
   "source": []
  }
 ],
 "metadata": {
  "kernelspec": {
   "display_name": "Python 3",
   "language": "python",
   "name": "python3"
  },
  "language_info": {
   "codemirror_mode": {
    "name": "ipython",
    "version": 3
   },
   "file_extension": ".py",
   "mimetype": "text/x-python",
   "name": "python",
   "nbconvert_exporter": "python",
   "pygments_lexer": "ipython3",
   "version": "3.8.3"
  }
 },
 "nbformat": 4,
 "nbformat_minor": 4
}
