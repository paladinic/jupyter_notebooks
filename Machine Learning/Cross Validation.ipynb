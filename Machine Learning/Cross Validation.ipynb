{
 "cells": [
  {
   "cell_type": "markdown",
   "metadata": {},
   "source": [
    "# Cross Validation"
   ]
  },
  {
   "cell_type": "code",
   "execution_count": 1,
   "metadata": {},
   "outputs": [],
   "source": [
    "import pandas as pd\n",
    "\n",
    "from sklearn.linear_model import LinearRegression\n",
    "from sklearn.model_selection import cross_val_score, train_test_split"
   ]
  },
  {
   "cell_type": "code",
   "execution_count": 2,
   "metadata": {},
   "outputs": [
    {
     "name": "stdout",
     "output_type": "stream",
     "text": [
      "Index(['model', 'mpg', 'cyl', 'disp', 'hp', 'drat', 'wt', 'qsec', 'vs', 'am',\n",
      "       'gear', 'carb'],\n",
      "      dtype='object')\n"
     ]
    }
   ],
   "source": [
    "# import mtcars data\n",
    "data = pd.read_csv(\"https://gist.githubusercontent.com/seankross/a412dfbd88b3db70b74b/raw/5f23f993cd87c283ce766e7ac6b329ee7cc2e1d1/mtcars.csv\")\n",
    "\n",
    "print(data.columns)"
   ]
  },
  {
   "cell_type": "code",
   "execution_count": 3,
   "metadata": {},
   "outputs": [],
   "source": [
    "# specify model target and features\n",
    "\n",
    "target_var = 'mpg'\n",
    "feature_vars = [ 'cyl', 'disp', 'hp', 'drat', 'wt', 'qsec', 'vs', 'am', 'gear', 'carb']\n",
    "id_var = \"model\"\n",
    "\n",
    "X = data[feature_vars]\n",
    "y = data[target_var]\n",
    "ID = data[id_var]"
   ]
  },
  {
   "cell_type": "code",
   "execution_count": 4,
   "metadata": {},
   "outputs": [
    {
     "name": "stdout",
     "output_type": "stream",
     "text": [
      "0.8690157644777647\n",
      "[-0.11144048  0.01333524 -0.02148212  0.78711097 -3.71530393  0.82104075\n",
      "  0.31776281  2.52022689  0.65541302 -0.19941925]\n"
     ]
    }
   ],
   "source": [
    "# create estimator and print cross val score\n",
    "\n",
    "lm = LinearRegression()\n",
    "\n",
    "lm.fit(X,y)\n",
    "\n",
    "print(lm.score(X,y))\n",
    "print(lm.coef_)"
   ]
  },
  {
   "cell_type": "code",
   "execution_count": 16,
   "metadata": {},
   "outputs": [
    {
     "name": "stdout",
     "output_type": "stream",
     "text": [
      "-0.3817627411965212\n",
      "0.5729630102477806\n",
      "[ 0.90546     0.03895643  0.03517055  3.35922307 -7.05052987  3.34154547\n",
      " -0.48034435  0.8922544   5.45454627 -0.70858719]\n"
     ]
    }
   ],
   "source": [
    "# calculate cross val model\n",
    "xtr,xts,ytr,yts = train_test_split(X,y,test_size=.3)\n",
    "\n",
    "cv_lm = LinearRegression()\n",
    "cv_lm.fit(xtr,ytr)\n",
    "\n",
    "print(cv_lm.score(xts,yts))\n",
    "print(cv_lm.score(X,y))\n",
    "print(cv_lm.coef_)"
   ]
  },
  {
   "cell_type": "code",
   "execution_count": 20,
   "metadata": {},
   "outputs": [
    {
     "name": "stdout",
     "output_type": "stream",
     "text": [
      "[-0.14075175 -0.0773088   0.72293765  0.69713771  0.12489297]\n"
     ]
    }
   ],
   "source": [
    "# calculate cross val scores\n",
    "\n",
    "cv_score = cross_val_score(LinearRegression(),X,y,cv=5,scoring=\"r2\")\n",
    "\n",
    "# note: scores (r2) can be negative when a model is built on a subset of the data\n",
    "# https://stackoverflow.com/questions/23036866/scikit-learn-is-returning-coefficient-of-determination-r2-values-less-than-1\n",
    "print(cv_score)"
   ]
  },
  {
   "cell_type": "code",
   "execution_count": null,
   "metadata": {},
   "outputs": [],
   "source": []
  }
 ],
 "metadata": {
  "kernelspec": {
   "display_name": "Python 3",
   "language": "python",
   "name": "python3"
  },
  "language_info": {
   "codemirror_mode": {
    "name": "ipython",
    "version": 3
   },
   "file_extension": ".py",
   "mimetype": "text/x-python",
   "name": "python",
   "nbconvert_exporter": "python",
   "pygments_lexer": "ipython3",
   "version": "3.8.5"
  }
 },
 "nbformat": 4,
 "nbformat_minor": 4
}
